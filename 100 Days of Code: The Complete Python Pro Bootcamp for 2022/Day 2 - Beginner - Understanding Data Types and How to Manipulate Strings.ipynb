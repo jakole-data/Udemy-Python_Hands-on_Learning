{
 "cells": [
  {
   "cell_type": "markdown",
   "id": "a52194fb",
   "metadata": {},
   "source": [
    "## [Interactive Coding Exercise] Data Types"
   ]
  },
  {
   "cell_type": "code",
   "execution_count": 4,
   "id": "d237b88e",
   "metadata": {},
   "outputs": [
    {
     "name": "stdout",
     "output_type": "stream",
     "text": [
      "Enter a two-digit number: 88\n",
      "\n",
      "Output: 16\n"
     ]
    }
   ],
   "source": [
    "# Write a program that adds the digits in a 2 digit number. e.g. \n",
    "# if the input was 35, then the output should be 3 + 5 = 8\n",
    "\n",
    "two_digit_number = input(\"Enter a two-digit number: \")\n",
    "first_number = int(two_digit_number[0])\n",
    "second_number = int(two_digit_number[1])\n",
    "print(\"\\nOutput: \" + str(first_number+second_number))"
   ]
  },
  {
   "cell_type": "markdown",
   "id": "9ecab2a7",
   "metadata": {},
   "source": [
    "## [Interactive Coding Exercise] BMI Calculator"
   ]
  },
  {
   "cell_type": "code",
   "execution_count": 20,
   "id": "0836e246",
   "metadata": {},
   "outputs": [
    {
     "name": "stdout",
     "output_type": "stream",
     "text": [
      "Enter your height in m: 1.75\n",
      "Enter your weight in kg: 80\n",
      "\n",
      "Your BMI is 26.\n"
     ]
    }
   ],
   "source": [
    "# Write a program that calculates the Body Mass Index (BMI) from a user's weight and height.\n",
    "\n",
    "# The BMI is a measure of some's weight taking into account their height. e.g. \n",
    "# If a tall person and a short person both weigh the same amount, the short person is usually more overweight.\n",
    "\n",
    "# The BMI is calculated by dividing a person's weight (in kg) by the square of their height (in m):\n",
    "\n",
    "height = input(\"Enter your height in m: \")\n",
    "weight = input(\"Enter your weight in kg: \")\n",
    "\n",
    "bmi = float(weight) / (float(height)**2)\n",
    "\n",
    "# Print BMI with no decimals in the output\n",
    "print(\"\\nYour BMI is \" + \"{:.0f}\".format(bmi) + \".\")"
   ]
  },
  {
   "cell_type": "markdown",
   "id": "a8d6d690",
   "metadata": {},
   "source": [
    "## [Interactive Coding Exercise] Life in Weeks"
   ]
  },
  {
   "cell_type": "code",
   "execution_count": 28,
   "id": "0f61fa00",
   "metadata": {},
   "outputs": [
    {
     "name": "stdout",
     "output_type": "stream",
     "text": [
      "How old are you? 13\n",
      "Enter the maximum age: 90\n",
      "You have 28105 days, 4004 weeks, and 924 months left.\n"
     ]
    }
   ],
   "source": [
    "# Create a program using maths and f-Strings that tells us how many days, weeks, \n",
    "# months we have left if we live until a certain age.\n",
    "\n",
    "# It will take your current age as the input and output a message with our time left in this format:\n",
    "\n",
    "# You have x days, y weeks, and z months left.\n",
    "\n",
    "# Where x, y and z are replaced with the actual calculated numbers.\n",
    "\n",
    "current_age = int(input(\"How old are you? \"))\n",
    "max_age = int(input(\"Enter the maximum age: \"))\n",
    "\n",
    "max_age_days = max_age * 365\n",
    "max_age_weeks = max_age * 52\n",
    "max_age_months = max_age * 12\n",
    "\n",
    "current_age_days = current_age * 365\n",
    "current_age_weeks = current_age * 52\n",
    "current_age_months = current_age * 12\n",
    "\n",
    "diff_days = str(max_age_days - current_age_days)\n",
    "diff_weeks = str(max_age_weeks - current_age_weeks)\n",
    "diff_months = str(max_age_months - current_age_months)\n",
    "\n",
    "print(f\"You have {diff_days} days, {diff_weeks} weeks, and {diff_months} months left.\")"
   ]
  },
  {
   "cell_type": "markdown",
   "id": "6e7db1ca",
   "metadata": {},
   "source": [
    "## Day 2 Project: Tip Calculator"
   ]
  },
  {
   "cell_type": "code",
   "execution_count": 42,
   "id": "6d8f717c",
   "metadata": {},
   "outputs": [
    {
     "name": "stdout",
     "output_type": "stream",
     "text": [
      "What is the total bill? $150.00\n",
      "What is the tip percentage? 12\n",
      "How many people are in your party? 5\n",
      "Each person will pay $33.60\n"
     ]
    }
   ],
   "source": [
    "# Create a tip calculator that takes the bill amount, number of people in the party, and the tip percentage.\n",
    "\n",
    "#If the bill was $150.00, split between 5 people, with 12% tip. \n",
    "\n",
    "#Each person should pay (150.00 / 5) * 1.12 = 33.6\n",
    "#Format the result to 2 decimal places = 33.60\n",
    "\n",
    "#Tip: There are 2 ways to round a number. You might have to do some Googling to solve this.\n",
    "\n",
    "bill = float(input(\"What is the total bill? $\"))\n",
    "tip_int = int(input(\"What is the tip percentage? \"))\n",
    "tip = 1+(tip_int/100)\n",
    "party = int(input(\"How many people are in your party? \"))\n",
    "\n",
    "# Round to 2 decimal places\n",
    "split_bill_amount = round(((bill/party)*tip),2)\n",
    "\n",
    "# Format split_bill_amount to have 2 decimal places, even when the number ends in a zero - i.e. $33.6 vs $33.60\n",
    "split_bill_amount = \"{:.2f}\".format(split_bill_amount)\n",
    "\n",
    "print(f\"Each person will pay ${split_bill_amount}\")"
   ]
  }
 ],
 "metadata": {
  "kernelspec": {
   "display_name": "Python 3 (ipykernel)",
   "language": "python",
   "name": "python3"
  },
  "language_info": {
   "codemirror_mode": {
    "name": "ipython",
    "version": 3
   },
   "file_extension": ".py",
   "mimetype": "text/x-python",
   "name": "python",
   "nbconvert_exporter": "python",
   "pygments_lexer": "ipython3",
   "version": "3.9.7"
  }
 },
 "nbformat": 4,
 "nbformat_minor": 5
}
