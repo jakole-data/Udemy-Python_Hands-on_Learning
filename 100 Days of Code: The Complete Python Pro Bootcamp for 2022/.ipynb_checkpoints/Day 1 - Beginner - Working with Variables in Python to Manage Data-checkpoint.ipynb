{
 "cells": [
  {
   "cell_type": "markdown",
   "id": "44972760",
   "metadata": {
    "toc": true
   },
   "source": [
    "<h1>Table of Contents<span class=\"tocSkip\"></span></h1>\n",
    "<div class=\"toc\"><ul class=\"toc-item\"><li><span><a href=\"#Interactive-Coding-Exercise:-Input-Function\" data-toc-modified-id=\"Interactive-Coding-Exercise:-Input-Function-1\"><span class=\"toc-item-num\">1&nbsp;&nbsp;</span>Interactive Coding Exercise: Input Function</a></span></li><li><span><a href=\"#Interactive-Coding-Exercise:-Variables\" data-toc-modified-id=\"Interactive-Coding-Exercise:-Variables-2\"><span class=\"toc-item-num\">2&nbsp;&nbsp;</span>Interactive Coding Exercise: Variables</a></span></li><li><span><a href=\"#Day-1-Project:-Band-Name-Generator\" data-toc-modified-id=\"Day-1-Project:-Band-Name-Generator-3\"><span class=\"toc-item-num\">3&nbsp;&nbsp;</span>Day 1 Project: Band Name Generator</a></span></li></ul></div>"
   ]
  },
  {
   "cell_type": "markdown",
   "id": "453b0102",
   "metadata": {},
   "source": [
    "## Interactive Coding Exercise: Input Function"
   ]
  },
  {
   "cell_type": "code",
   "execution_count": 1,
   "id": "8f3a7761",
   "metadata": {},
   "outputs": [
    {
     "name": "stdout",
     "output_type": "stream",
     "text": [
      "What is your name? Tommy\n",
      "5\n"
     ]
    }
   ],
   "source": [
    "# Use the input function to retrieve a name.\n",
    "# Once the name is entered, print the length of the name.\n",
    "\n",
    "print(len(input(\"What is your name? \")))"
   ]
  },
  {
   "cell_type": "markdown",
   "id": "ea7e584d",
   "metadata": {},
   "source": [
    "## Interactive Coding Exercise: Variables"
   ]
  },
  {
   "cell_type": "code",
   "execution_count": 2,
   "id": "5956b3bb",
   "metadata": {},
   "outputs": [
    {
     "name": "stdout",
     "output_type": "stream",
     "text": [
      "a: 1234\n",
      "b: 6789\n",
      "\n",
      "a: 6789\n",
      "b: 1234\n"
     ]
    }
   ],
   "source": [
    "# MY SOLUTION\n",
    "\n",
    "# Write a program that switches the values stored in the variables a and b.\n",
    "\n",
    "# Input function used to gather values for a and b\n",
    "a = input(\"a: \")\n",
    "b = input(\"b: \")\n",
    "\n",
    "# Print function used to print a and b with switched values\n",
    "# \\n used to create a new line between the input and print functions\n",
    "print(\"\\na: \"+ b)\n",
    "print(\"b: \"+ a)"
   ]
  },
  {
   "cell_type": "code",
   "execution_count": 3,
   "id": "45b73edd",
   "metadata": {},
   "outputs": [
    {
     "name": "stdout",
     "output_type": "stream",
     "text": [
      "a: 512\n",
      "b: 143\n",
      "\n",
      "a: 143\n",
      "b: 512\n"
     ]
    }
   ],
   "source": [
    "# CORRECT SOLUTION\n",
    "\n",
    "# Write a program that switches the values stored in the variables a and b.\n",
    "\n",
    "# Input function used to gather values for a and b\n",
    "a = input(\"a: \")\n",
    "b = input(\"b: \")\n",
    "\n",
    "# Created a new variable to assist with switching, keeping the variables consistent below - a: = a, b: = b\n",
    "c = a\n",
    "a = b\n",
    "b = c\n",
    "\n",
    "# Print function used to print a and b with switched values\n",
    "# \\n used to create a new line between the input and print functions\n",
    "print(\"\\na: \"+ a)\n",
    "print(\"b: \"+ b)"
   ]
  },
  {
   "cell_type": "markdown",
   "id": "1db2db6b",
   "metadata": {},
   "source": [
    "## Day 1 Project: Band Name Generator"
   ]
  },
  {
   "cell_type": "code",
   "execution_count": 4,
   "id": "ca1679df",
   "metadata": {},
   "outputs": [
    {
     "name": "stdout",
     "output_type": "stream",
     "text": [
      "What is your name? Tommy\n",
      "Hello Tommy!\n",
      "Thank you for using the Band Name Generator.\n",
      "\n",
      "What city did you grow up in?\n",
      "Rochester\n",
      "\n",
      "What is your pet name?\n",
      "Blue\n",
      "\n",
      "This is your Band Name:\n",
      "Rochester Blue\n"
     ]
    }
   ],
   "source": [
    "#1. Create a greeting for your program.\n",
    "print(\"Hello \" + input(\"What is your name? \")+\"!\\nThank you for using the Band Name Generator.\\n\")\n",
    "\n",
    "#2. Ask the user for the city that they grew up in.\n",
    "city = input(\"What city did you grow up in?\\n\")\n",
    "\n",
    "#3. Ask the user for the name of a pet.\n",
    "pet = input(\"\\nWhat is your pet name?\\n\")\n",
    "\n",
    "#4. Combine the name of their city and pet and show them their band name.\n",
    "print(\"\\nThis is your Band Name:\\n\"+ city +\" \"+ pet)"
   ]
  },
  {
   "cell_type": "code",
   "execution_count": null,
   "id": "eecc8b17",
   "metadata": {},
   "outputs": [],
   "source": []
  }
 ],
 "metadata": {
  "kernelspec": {
   "display_name": "Python 3 (ipykernel)",
   "language": "python",
   "name": "python3"
  },
  "language_info": {
   "codemirror_mode": {
    "name": "ipython",
    "version": 3
   },
   "file_extension": ".py",
   "mimetype": "text/x-python",
   "name": "python",
   "nbconvert_exporter": "python",
   "pygments_lexer": "ipython3",
   "version": "3.9.7"
  },
  "toc": {
   "base_numbering": 1,
   "nav_menu": {},
   "number_sections": true,
   "sideBar": true,
   "skip_h1_title": false,
   "title_cell": "Table of Contents",
   "title_sidebar": "Contents",
   "toc_cell": true,
   "toc_position": {},
   "toc_section_display": true,
   "toc_window_display": true
  }
 },
 "nbformat": 4,
 "nbformat_minor": 5
}
