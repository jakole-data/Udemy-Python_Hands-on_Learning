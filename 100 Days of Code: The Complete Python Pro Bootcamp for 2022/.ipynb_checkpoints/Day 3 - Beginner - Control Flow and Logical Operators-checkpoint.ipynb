{
 "cells": [
  {
   "cell_type": "markdown",
   "id": "a065a77a",
   "metadata": {
    "toc": true
   },
   "source": [
    "<h1>Table of Contents<span class=\"tocSkip\"></span></h1>\n",
    "<div class=\"toc\"><ul class=\"toc-item\"><li><span><a href=\"#[Interactive-Coding-Exercise]-Odd-or-Even?-Introducing-the-Modulo\" data-toc-modified-id=\"[Interactive-Coding-Exercise]-Odd-or-Even?-Introducing-the-Modulo-1\"><span class=\"toc-item-num\">1&nbsp;&nbsp;</span>[Interactive Coding Exercise] Odd or Even? Introducing the Modulo</a></span></li><li><span><a href=\"#[Interactive-Coding-Exercise]-BMI-2.0\" data-toc-modified-id=\"[Interactive-Coding-Exercise]-BMI-2.0-2\"><span class=\"toc-item-num\">2&nbsp;&nbsp;</span>[Interactive Coding Exercise] BMI 2.0</a></span></li><li><span><a href=\"#[Interactive-Coding-Exercise]-Leap-Year\" data-toc-modified-id=\"[Interactive-Coding-Exercise]-Leap-Year-3\"><span class=\"toc-item-num\">3&nbsp;&nbsp;</span>[Interactive Coding Exercise] Leap Year</a></span><ul class=\"toc-item\"><li><ul class=\"toc-item\"><li><span><a href=\"#Leap-Year---Solution-One\" data-toc-modified-id=\"Leap-Year---Solution-One-3.0.1\"><span class=\"toc-item-num\">3.0.1&nbsp;&nbsp;</span>Leap Year - Solution One</a></span></li><li><span><a href=\"#Leap-Year---Solution-Two\" data-toc-modified-id=\"Leap-Year---Solution-Two-3.0.2\"><span class=\"toc-item-num\">3.0.2&nbsp;&nbsp;</span>Leap Year - Solution Two</a></span></li></ul></li></ul></li><li><span><a href=\"#Python-Pizza-Shop\" data-toc-modified-id=\"Python-Pizza-Shop-4\"><span class=\"toc-item-num\">4&nbsp;&nbsp;</span>Python Pizza Shop</a></span></li><li><span><a href=\"#[Interactive-Coding-Exercise]-Love-Calculator\" data-toc-modified-id=\"[Interactive-Coding-Exercise]-Love-Calculator-5\"><span class=\"toc-item-num\">5&nbsp;&nbsp;</span>[Interactive Coding Exercise] Love Calculator</a></span></li><li><span><a href=\"#Day-3-Project:-Choose-Your-Own-Adventure\" data-toc-modified-id=\"Day-3-Project:-Choose-Your-Own-Adventure-6\"><span class=\"toc-item-num\">6&nbsp;&nbsp;</span>Day 3 Project: Choose Your Own Adventure</a></span></li></ul></div>"
   ]
  },
  {
   "cell_type": "markdown",
   "id": "06a01354",
   "metadata": {},
   "source": [
    "# [Interactive Coding Exercise] Odd or Even? Introducing the Modulo\n",
    "\n",
    "Write a program that works out whether if a given number is an odd or even number.\n",
    "\n",
    "Even numbers can be divided by 2 with no remainder.\n",
    "\n",
    "e.g. 86 is even because 86 ÷ 2 = 43\n",
    "\n",
    "43 does not have any decimal places. Therefore the division is clean.\n",
    "\n",
    "e.g. 59 is odd because 59 ÷ 2 = 29.5\n",
    "\n",
    "29.5 is not a whole number, it has decimal places. Therefore there is a remainder of 0.5, so the division is not clean.\n",
    "\n",
    "The modulo is written as a percentage sign (%) in Python. It gives you the remainder after a division."
   ]
  },
  {
   "cell_type": "code",
   "execution_count": 1,
   "id": "a295665b",
   "metadata": {},
   "outputs": [
    {
     "name": "stdout",
     "output_type": "stream",
     "text": [
      "Welcome to \"Odd or Even\"!\n",
      "Enter any number: 22\n",
      "\n",
      "This number is Even!\n"
     ]
    }
   ],
   "source": [
    "# Welcome Message\n",
    "print('Welcome to \"Odd or Even\"!')\n",
    "\n",
    "#Input function used to capture number which will be converted to an integer and assigned to variable 'number'\n",
    "number = int(input(\"Enter any number: \"))\n",
    "\n",
    "'''If-Else... Modulo used to check whether or not number is Even by \n",
    "equaling the outcome to zero meaning no remainder. Should there be a remainder, then this means that an odd \n",
    "number was provided.'''\n",
    "\n",
    "if number%2 == 0:\n",
    "    print(\"\\nThis number is Even!\")\n",
    "else:\n",
    "    print(\"\\nThis number is Odd!\")"
   ]
  },
  {
   "cell_type": "markdown",
   "id": "9768b131",
   "metadata": {},
   "source": [
    "# [Interactive Coding Exercise] BMI 2.0\n",
    "\n",
    "Write a program that interprets the Body Mass Index (BMI) based on a user's weight and height.\n",
    "\n",
    "It should tell them the interpretation of their BMI based on the BMI value.\n",
    "\n",
    "Under 18.5 they are underweight\n",
    "\n",
    "Over 18.5 but below 25 they have a normal weight\n",
    "\n",
    "Over 25 but below 30 they are slightly overweight\n",
    "\n",
    "Over 30 but below 35 they are obese\n",
    "\n",
    "Above 35 they are clinically obese."
   ]
  },
  {
   "cell_type": "code",
   "execution_count": 3,
   "id": "12bee91c",
   "metadata": {
    "scrolled": true
   },
   "outputs": [
    {
     "name": "stdout",
     "output_type": "stream",
     "text": [
      "Enter your weight in kg: 90\n",
      "Enter your height in m: 2\n",
      "Your bmi is 22.5. You have a normal weight.\n"
     ]
    }
   ],
   "source": [
    "weight = float(input(\"Enter your weight in kg: \"))\n",
    "height = float(input(\"Enter your height in m: \"))\n",
    "\n",
    "bmi = round((weight / (height**2)),2)\n",
    "\n",
    "if bmi < 18.5:\n",
    "    print(f\"Your bmi is {bmi}. You are underweight.\")\n",
    "elif bmi < 25:\n",
    "    print(f\"Your bmi is {bmi}. You have a normal weight.\")\n",
    "elif bmi < 30:\n",
    "    print(f\"Your bmi is {bmi}. You are slightly overweight.\")\n",
    "elif bmi < 35:\n",
    "    print(f\"Your bmi is {bmi}. You are obese.\")\n",
    "else:\n",
    "    print(f\"Your bmi is {bmi}. You are clinically obese.\")"
   ]
  },
  {
   "cell_type": "markdown",
   "id": "5c16166d",
   "metadata": {},
   "source": [
    "# [Interactive Coding Exercise] Leap Year\n",
    "\n",
    "Write a program that works out whether if a given year is a leap year. A normal year has 365 days, leap years have 366, with an extra day in February. The reason why we have leap years is really fascinating, this video does it more justice:\n",
    "\n",
    "https://www.youtube.com/watch?v=xX96xng7sAE\n",
    "\n",
    "This is how you work out whether if a particular year is a leap year.\n",
    "\n",
    "on every year that is evenly divisible by 4 **except** every year that is evenly divisible by 100 **unless** the year is also evenly divisible by 400\n",
    "\n",
    "e.g. The year 2000:\n",
    "\n",
    "2000 ÷ 4 = 500 (Leap)\n",
    "\n",
    "2000 ÷ 100 = 20 (Not Leap)\n",
    "\n",
    "2000 ÷ 400 = 5 (Leap!)\n",
    "\n",
    "So the year 2000 is a leap year.\n",
    "\n",
    "But the year 2100 is not a leap year because:\n",
    "\n",
    "2100 ÷ 4 = 525 (Leap)\n",
    "\n",
    "2100 ÷ 100 = 21 (Not Leap)\n",
    "\n",
    "2100 ÷ 400 = 5.25 (Not Leap)"
   ]
  },
  {
   "cell_type": "markdown",
   "id": "aaea2e6a",
   "metadata": {},
   "source": [
    "### Leap Year - Solution One"
   ]
  },
  {
   "cell_type": "code",
   "execution_count": 4,
   "id": "9cfee476",
   "metadata": {
    "scrolled": true
   },
   "outputs": [
    {
     "name": "stdout",
     "output_type": "stream",
     "text": [
      "Welcome to \"Is This Year a Leap Year or Not?\"\n",
      "\n",
      "Enter a year: 1900\n",
      "\n",
      "Sorry... 1900 is NOT a leap year...\n"
     ]
    }
   ],
   "source": [
    "print('Welcome to \"Is This Year a Leap Year or Not?\"\\n')\n",
    "year = int(input(\"Enter a year: \"))\n",
    "\n",
    "if year % 4 == 0:\n",
    "    if year % 100 == 0 and year % 400 != 0:\n",
    "        print(f\"\\nSorry... {year} is NOT a leap year...\")\n",
    "    elif year % 100 == 0 and year % 400 == 0:\n",
    "        print(f\"\\nHOORAY {year} IS A LEAP YEAR !\")\n",
    "    else:\n",
    "        print(f\"\\nHOORAY {year} IS A LEAP YEAR !\")\n",
    "else:\n",
    "    print(f\"\\nSorry... {year} is NOT a leap year...\")"
   ]
  },
  {
   "cell_type": "markdown",
   "id": "2180282a",
   "metadata": {},
   "source": [
    "### Leap Year - Solution Two"
   ]
  },
  {
   "cell_type": "code",
   "execution_count": 5,
   "id": "1e5dd006",
   "metadata": {},
   "outputs": [
    {
     "name": "stdout",
     "output_type": "stream",
     "text": [
      "Welcome to \"Is This Year a Leap Year or Not?\"\n",
      "\n",
      "Enter a year: 2022\n",
      "\n",
      "Sorry... 2022 is NOT a leap year...\n"
     ]
    }
   ],
   "source": [
    "print('Welcome to \"Is This Year a Leap Year or Not?\"\\n')\n",
    "year = int(input(\"Enter a year: \"))\n",
    "\n",
    "if year % 4 == 0:\n",
    "    if year % 100 == 0:\n",
    "        if year % 400 == 0:\n",
    "            print(f\"\\nHOORAY {year} IS A LEAP YEAR !\")\n",
    "        else:\n",
    "            print(f\"\\nSorry... {year} is NOT a leap year...\")\n",
    "    else:\n",
    "        print(f\"\\nHOORAY {year} IS A LEAP YEAR !\")\n",
    "else:\n",
    "    print(f\"\\nSorry... {year} is NOT a leap year...\")"
   ]
  },
  {
   "cell_type": "markdown",
   "id": "98fc5720",
   "metadata": {},
   "source": [
    "# Python Pizza Shop\n",
    "\n",
    "Congratulations, you've got a job at Python Pizza. Your first job is to build an automatic pizza order program.\n",
    "\n",
    "Based on a user's order, work out their final bill.\n",
    "\n",
    "**Pizza Size:**\n",
    "<br>Small Pizza: 15.00\n",
    "<br>Medium Pizza: 20.00\n",
    "<br>Large Pizza: 25.00\n",
    "\n",
    "\n",
    "**Pepperoni:**\n",
    "<br>Pepperoni for Small Pizza: +2.00\n",
    "<br>Pepperoni for Medium or Large Pizza: +3.00\n",
    "\n",
    "\n",
    "**Extra Cheese:**\n",
    "<br>Extra cheese for any size pizza: +1.00"
   ]
  },
  {
   "cell_type": "code",
   "execution_count": 6,
   "id": "fdd722d3",
   "metadata": {},
   "outputs": [
    {
     "name": "stdout",
     "output_type": "stream",
     "text": [
      "Welcome to Python Pizza\n",
      "\n",
      "Which size pizza would you like? Enter S for small, M for medium, or L for large.\n",
      "s\n",
      "\n",
      "Do you want pepperoni on your pizza? Enter Y for yes or N for no.\n",
      "y\n",
      "\n",
      "Do you want cheese on your pizza? Enter Y for yes or N for no.\n",
      "n\n",
      "\n",
      "Your final bill is $17.\n"
     ]
    }
   ],
   "source": [
    "print(\"Welcome to Python Pizza\\n\")\n",
    "\n",
    "# Gather the pizza size from the customer\n",
    "pizza_size = input(\"Which size pizza would you like? Enter S for small, M for medium, or L for large.\\n\")\n",
    "\n",
    "# Set the bill to zero to start with. Bill will increase based on the customer's selections.\n",
    "bill = 0\n",
    "\n",
    "# SMALL PIZZA OPTIONS\n",
    "# upper() method used in case customer enters lowercase entries\n",
    "if pizza_size.upper() == 'S':\n",
    "    bill += 15\n",
    "    pepperoni = input(\"\\nDo you want pepperoni on your pizza? Enter Y for yes or N for no.\\n\")\n",
    "    if pepperoni.upper() == 'Y':\n",
    "        bill += 2\n",
    "    cheese = input(\"\\nDo you want cheese on your pizza? Enter Y for yes or N for no.\\n\")\n",
    "    if cheese.upper() == 'Y':\n",
    "        bill += 1\n",
    "    print(f\"\\nYour final bill is ${bill}.\")\n",
    "\n",
    "# MEDIUM PIZZA OPTIONS\n",
    "elif pizza_size.upper() == 'M':\n",
    "    bill += 20\n",
    "    pepperoni = input(\"\\nDo you want pepperoni on your pizza? Enter Y for yes or N for no.\\n\")\n",
    "    if pepperoni.upper() == 'Y':\n",
    "        bill += 3\n",
    "    cheese = input(\"\\nDo you want cheese on your pizza? Enter Y for yes or N for no.\\n\")\n",
    "    if cheese.upper() == 'Y':\n",
    "        bill += 1\n",
    "    print(f\"\\nYour final bill is ${bill}.\")\n",
    "    \n",
    "# LARGE PIZZA OPTIONS\n",
    "elif pizza_size.upper() == 'L':\n",
    "    bill += 25\n",
    "    pepperoni = input(\"\\nDo you want pepperoni on your pizza? Enter Y for yes or N for no.\\n\")\n",
    "    if pepperoni.upper() == 'Y':\n",
    "        bill += 3\n",
    "    cheese = input(\"\\nDo you want cheese on your pizza? Enter Y for yes or N for no.\\n\")\n",
    "    if cheese.upper() == 'Y':\n",
    "        bill += 1\n",
    "    print(f\"\\nYour final bill is ${bill}.\")\n",
    "    \n",
    "# Customer needs to enter S, M, L\n",
    "else:\n",
    "    print(\"Not a choice. Please enter S for small, M for medium, or L for large.\")"
   ]
  },
  {
   "cell_type": "markdown",
   "id": "34a8aab7",
   "metadata": {},
   "source": [
    "# [Interactive Coding Exercise] Love Calculator\n",
    "\n",
    "You are going to write a program that tests the compatibility between two people.\n",
    "\n",
    "To work out the love score between two people:\n",
    "\n",
    "Take both people's names and check for the number of times the letters in the word TRUE occurs. \n",
    "Then check for the number of times the letters in the word LOVE occurs. Then combine these numbers \n",
    "to make a 2 digit number.\n",
    "\n",
    "For Love Scores less than 10 or greater than 90, the message should be:\n",
    "\n",
    "\"Your score is **x**, you go together like coke and mentos.\"\n",
    "\n",
    "For Love Scores between 40 and 50, the message should be:\n",
    "\n",
    "\"Your score is **y**, you are alright together.\"\n",
    "\n",
    "Otherwise, the message will just be their score. e.g.:\n",
    "\n",
    "\"Your score is **z**.\""
   ]
  },
  {
   "cell_type": "code",
   "execution_count": 7,
   "id": "21dc824a",
   "metadata": {},
   "outputs": [
    {
     "name": "stdout",
     "output_type": "stream",
     "text": [
      "Enter the first person's name: \n",
      "Barack Obama\n",
      "Enter the second person's name: \n",
      "Michelle Obama\n",
      "\n",
      "Your score is 36.\n"
     ]
    }
   ],
   "source": [
    "# Gather each person's name. Apply the lower() method to make all letters lowercase\n",
    "first_person = input(\"Enter the first person's name: \\n\").lower()\n",
    "second_person = input(\"Enter the second person's name: \\n\").lower()\n",
    "\n",
    "# Using the count() method, calculate how many times the letters in TRUE and LOVE appear in each person's name\n",
    "t = first_person.count('t') + second_person.count('t')\n",
    "r = first_person.count('r') + second_person.count('r')\n",
    "u = first_person.count('u') + second_person.count('u')\n",
    "e = first_person.count('e') + second_person.count('e')\n",
    "\n",
    "l = first_person.count('l') + second_person.count('l')\n",
    "o = first_person.count('o') + second_person.count('o')\n",
    "v = first_person.count('v') + second_person.count('v')\n",
    "e = first_person.count('e') + second_person.count('e')\n",
    "\n",
    "# Get a 'true' score and a 'love' score by adding together each value for t,r,u,e and l,o,v,e\n",
    "true_score = t+r+u+e\n",
    "love_score = l+o+v+e\n",
    "\n",
    "# Concatenate true_score and love_score as strings to get 2 digit number. Then convert integer\n",
    "score = int(str(true_score)+str(love_score))\n",
    "\n",
    "# Use IF-ELSE to get outcome\n",
    "if score < 10 or score > 90:\n",
    "    print(f\"\\nYour score is {score}, you go together like coke and mentos.\")\n",
    "elif score >= 40 and score <= 50:\n",
    "    print(f\"\\nYour score is {score}, you are alright together.\")\n",
    "else:\n",
    "    print(f\"\\nYour score is {score}.\")"
   ]
  },
  {
   "cell_type": "markdown",
   "id": "b2a165e0",
   "metadata": {},
   "source": [
    "# Day 3 Project: Choose Your Own Adventure\n",
    "\n",
    "Make your own \"Choose Your Own Adventure\" game. Use conditionals such as if, else, and elif statements to lay out the logic and the story's path in your program."
   ]
  },
  {
   "cell_type": "code",
   "execution_count": 12,
   "id": "f07bd880",
   "metadata": {},
   "outputs": [
    {
     "name": "stdout",
     "output_type": "stream",
     "text": [
      "Welcome to \"Pick A Date\"!\n",
      "\n",
      "Who would you like to go on a date with - Dave or Kate? dave\n",
      "Dave just arrived. Make your way outside to meet him.\n",
      "Where would like to go first? Type 'Park' or 'Diner' diner\n",
      "You've just arrived at 'Raceway Diner'\n",
      "Do you want to order just a shake or a burger with a coke?\n",
      "Type 'Shake' or 'Burger' burger\n",
      "Enjoy your burger and coke!\n"
     ]
    }
   ],
   "source": [
    "print('Welcome to \"Pick A Date\"!\\n')\n",
    "\n",
    "date = input(\"Who would you like to go on a date with - Dave or Kate? \").lower()\n",
    "\n",
    "if date == 'dave':\n",
    "    print(\"Dave just arrived. Make your way outside to meet him.\")\n",
    "    first_event = input(\"Where would like to go first? Type 'Park' or 'Diner' \").lower()\n",
    "    if first_event == 'park':\n",
    "        print(\"You've just arrived at Central Park.\")\n",
    "        ducks_or_talk = input(\"Do you want to feed the ducks or find a bench and talk?\\n Type 'Ducks' or 'Talk'\")\n",
    "        if ducks_or_talk == 'ducks':\n",
    "            print(\"Enjoy feeding the ducks!\")\n",
    "        else:\n",
    "            print(\"Great! Use this time to learn more about one another!\")\n",
    "    elif first_event == 'diner':\n",
    "        print(\"You've just arrived at 'Raceway Diner'\")\n",
    "        shake_burger = input(\"Do you want to order just a shake or a burger with a coke?\\nType 'Shake' or 'Burger' \")\n",
    "        if shake_burger == 'shake':\n",
    "            print(\"Enjoy your strawberry shake!\")\n",
    "        else:\n",
    "            print(\"Enjoy your burger and coke!\")\n",
    "            \n",
    "elif date == 'kate':\n",
    "    print(\"Kate just arrived. Make your way outside to meet her.\")\n",
    "    first_event = input(\"What would you like to do first?\\nType 'Hike' or 'Bowling' \").lower()\n",
    "    if first_event == 'hike':\n",
    "        print(\"You've just arrived at Bear Mountain.\")\n",
    "        hike_bowling = input(\"Do you want to hike an easy trail or a hard trail?\\nType 'Easy' or 'Hard'\").lower()\n",
    "        if hike_bowling == 'easy':\n",
    "            print(\"Enjoy hiking 'Hessian Lake Loop'!\")\n",
    "        else:\n",
    "            print(\"Be careful on 'Bald Mountain Loop'!\")\n",
    "    elif first_event == 'bowling':\n",
    "        print(\"You've just arrived at the bowling alley, but all of the lanes are taken.\")\n",
    "        wait_arcade = input(\"While you wait for a lane do you want to eat or play in the arcade??\\nType 'Eat' or 'Arcade' \").lower()\n",
    "        if wait_arcade == 'eat':\n",
    "            print(\"Make sure your name is on the waitlist before you order your food.\")\n",
    "        else:\n",
    "            print(\"Make sure your name is on the waitlist before you head to the arcade.\")\n",
    "            \n",
    "else:\n",
    "    print(\"Sorry, there is no one to date by that name. Please choose either 'Dave' or 'Kate'.\")\n",
    "        \n",
    "        "
   ]
  }
 ],
 "metadata": {
  "kernelspec": {
   "display_name": "Python 3 (ipykernel)",
   "language": "python",
   "name": "python3"
  },
  "language_info": {
   "codemirror_mode": {
    "name": "ipython",
    "version": 3
   },
   "file_extension": ".py",
   "mimetype": "text/x-python",
   "name": "python",
   "nbconvert_exporter": "python",
   "pygments_lexer": "ipython3",
   "version": "3.9.7"
  },
  "toc": {
   "base_numbering": 1,
   "nav_menu": {},
   "number_sections": true,
   "sideBar": true,
   "skip_h1_title": false,
   "title_cell": "Table of Contents",
   "title_sidebar": "Contents",
   "toc_cell": true,
   "toc_position": {
    "height": "calc(100% - 180px)",
    "left": "10px",
    "top": "150px",
    "width": "288px"
   },
   "toc_section_display": true,
   "toc_window_display": true
  }
 },
 "nbformat": 4,
 "nbformat_minor": 5
}
