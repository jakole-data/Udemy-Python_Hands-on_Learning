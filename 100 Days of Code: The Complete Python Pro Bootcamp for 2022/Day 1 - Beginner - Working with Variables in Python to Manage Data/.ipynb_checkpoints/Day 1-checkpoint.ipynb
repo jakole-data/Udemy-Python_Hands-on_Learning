{
 "cells": [
  {
   "cell_type": "markdown",
   "id": "ab3f83e5",
   "metadata": {},
   "source": [
    "### [Interactive Coding Exercise] Input Function"
   ]
  },
  {
   "cell_type": "code",
   "execution_count": 3,
   "id": "17658ad7",
   "metadata": {},
   "outputs": [
    {
     "name": "stdout",
     "output_type": "stream",
     "text": [
      "What is your name? Cathy\n",
      "5\n"
     ]
    }
   ],
   "source": [
    "# Use the input function to retrieve a name.\n",
    "# Once the name is entered, print the length of the name.\n",
    "\n",
    "print(len(input(\"What is your name? \")))"
   ]
  },
  {
   "cell_type": "markdown",
   "id": "627f341d",
   "metadata": {},
   "source": [
    "### [Interactive Coding Exercise] Variables"
   ]
  },
  {
   "cell_type": "code",
   "execution_count": 10,
   "id": "466805f3",
   "metadata": {},
   "outputs": [
    {
     "name": "stdout",
     "output_type": "stream",
     "text": [
      "a: 100\n",
      "b: 001\n",
      "\n",
      "a: 001\n",
      "b: 100\n"
     ]
    }
   ],
   "source": [
    "# MY SOLUTION\n",
    "\n",
    "# Write a program that switches the values stored in the variables a and b.\n",
    "\n",
    "# Input function used to gather values for a and b\n",
    "a = input(\"a: \")\n",
    "b = input(\"b: \")\n",
    "\n",
    "# Print function used to print a and b with switched values\n",
    "# \\n used to create a new line between the input and print functions\n",
    "print(\"\\na: \"+ b)\n",
    "print(\"b: \"+ a)"
   ]
  },
  {
   "cell_type": "code",
   "execution_count": 13,
   "id": "af66dfdc",
   "metadata": {},
   "outputs": [
    {
     "name": "stdout",
     "output_type": "stream",
     "text": [
      "a: 100\n",
      "b: 001\n",
      "\n",
      "a: 001\n",
      "b: 100\n"
     ]
    }
   ],
   "source": [
    "# CORRECT SOLUTION\n",
    "\n",
    "# Write a program that switches the values stored in the variables a and b.\n",
    "\n",
    "# Input function used to gather values for a and b\n",
    "a = input(\"a: \")\n",
    "b = input(\"b: \")\n",
    "\n",
    "# Created a new variable to assist with switching, keeping the variables consistent below - a: = a, b: = b\n",
    "c = a\n",
    "a = b\n",
    "b = c\n",
    "\n",
    "# Print function used to print a and b with switched values\n",
    "# \\n used to create a new line between the input and print functions\n",
    "print(\"\\na: \"+ a)\n",
    "print(\"b: \"+ b)"
   ]
  },
  {
   "cell_type": "markdown",
   "id": "7d932a5a",
   "metadata": {},
   "source": [
    "### Band Name Generator"
   ]
  },
  {
   "cell_type": "code",
   "execution_count": 27,
   "id": "de7447b6",
   "metadata": {},
   "outputs": [
    {
     "name": "stdout",
     "output_type": "stream",
     "text": [
      "What is your name? J\n",
      "Hello J!\n",
      "Thank you for using the Band Name Generator.\n",
      "\n",
      "What city did you grow up in?\n",
      "k\n",
      "\n",
      "What is your pet name?\n",
      "L\n",
      "\n",
      "This is your Band Name:\n",
      "k L\n"
     ]
    }
   ],
   "source": [
    "#1. Create a greeting for your program.\n",
    "print(\"Hello \" + input(\"What is your name? \")+\"!\\nThank you for using the Band Name Generator.\\n\")\n",
    "\n",
    "#2. Ask the user for the city that they grew up in.\n",
    "city = input(\"What city did you grow up in?\\n\")\n",
    "\n",
    "#3. Ask the user for the name of a pet.\n",
    "pet = input(\"\\nWhat is your pet name?\\n\")\n",
    "\n",
    "#4. Combine the name of their city and pet and show them their band name.\n",
    "print(\"\\nThis is your Band Name:\\n\"+ city +\" \"+ pet)"
   ]
  },
  {
   "cell_type": "code",
   "execution_count": null,
   "id": "720dc503",
   "metadata": {},
   "outputs": [],
   "source": []
  }
 ],
 "metadata": {
  "kernelspec": {
   "display_name": "Python 3 (ipykernel)",
   "language": "python",
   "name": "python3"
  },
  "language_info": {
   "codemirror_mode": {
    "name": "ipython",
    "version": 3
   },
   "file_extension": ".py",
   "mimetype": "text/x-python",
   "name": "python",
   "nbconvert_exporter": "python",
   "pygments_lexer": "ipython3",
   "version": "3.9.7"
  }
 },
 "nbformat": 4,
 "nbformat_minor": 5
}
